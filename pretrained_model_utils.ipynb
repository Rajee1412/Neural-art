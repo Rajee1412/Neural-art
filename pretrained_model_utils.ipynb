{
 "cells": [
  {
   "cell_type": "code",
   "execution_count": 208,
   "metadata": {
    "collapsed": false
   },
   "outputs": [],
   "source": [
    "# reference http://www.chioka.in/tensorflow-implementation-neural-algorithm-of-artistic-style\n",
    "import os\n",
    "import sys\n",
    "import scipy.misc\n",
    "import scipy.io\n",
    "import matplotlib.pyplot as plt\n",
    "import tensorflow as tf\n",
    "from PIL import Image\n",
    "import numpy as np\n",
    "\n",
    "%matplotlib inline"
   ]
  },
  {
   "cell_type": "code",
   "execution_count": 209,
   "metadata": {
    "collapsed": false
   },
   "outputs": [],
   "source": [
    "IMAGE_HEIGHT = 800\n",
    "IMAGE_WIDTH = 400\n",
    "CHANNELS = 3\n",
    "VGG_MEANS = np.array([123.68, 116.779, 103.939]).reshape((1,1,1,3)) \n",
    "NOISE_RATIO = 0.6\n",
    "\n",
    "#print (VGG_MEANS)"
   ]
  },
  {
   "cell_type": "code",
   "execution_count": 219,
   "metadata": {
    "collapsed": false
   },
   "outputs": [],
   "source": [
    "def load_pretrained_VGG():\n",
    "    model_path = 'imagenet-vgg-verydeep-19.mat'\n",
    "    model = scipy.io.loadmat(model_path)\n",
    "    \n",
    "    layers = model['layers']\n",
    "    \n",
    "    def _weights (layer, expected_layer_name):\n",
    "        WB = layers[0][layer][0][0][2]\n",
    "        weight = WB[0][0]\n",
    "        bias = WB[0][1]\n",
    "        layer_name = layers[0][layer][0][0][0][0]\n",
    "        assert expected_layer_name == layer_name\n",
    "        \n",
    "        return weight, bias\n",
    "    \n",
    "    def _conv_2d(prev_layer,layer, layer_name):\n",
    "        \n",
    "        W, B = _weights(layer,layer_name)\n",
    "        w = tf.constant(W)\n",
    "        b = tf.constant(np.reshape(B,(B.size)))\n",
    "        \n",
    "        print (b.shape)\n",
    "        \n",
    "        conv_layer = tf.nn.conv2d(prev_layer,filter=w,strides=[1,1,1,1],padding='SAME')+b\n",
    "        return conv_layer\n",
    "    \n",
    "    def _conv2d_relu(prev_layer,layer, layer_name):\n",
    "        \n",
    "        conv_layer = _conv_2d(prev_layer,layer,layer_name)\n",
    "        \n",
    "        return tf.nn.relu(conv_layer)\n",
    "        \n",
    "    def _avgpool(prev_layer):\n",
    "        \n",
    "        return tf.nn.avg_pool(prev_layer,ksize=[1,2,2,1],strides=[1,2,2,1],padding='SAME')\n",
    "    \n",
    "    graph = {}\n",
    "    graph['input']   = tf.Variable(np.zeros((1, IMAGE_HEIGHT, IMAGE_WIDTH, CHANNELS)), dtype = 'float32')\n",
    "    graph['conv1_1']  = _conv2d_relu(graph['input'], 0, 'conv1_1')\n",
    "    graph['conv1_2']  = _conv2d_relu(graph['conv1_1'], 2, 'conv1_2')\n",
    "    graph['avgpool1'] = _avgpool(graph['conv1_2'])\n",
    "    graph['conv2_1']  = _conv2d_relu(graph['avgpool1'], 5, 'conv2_1')\n",
    "    graph['conv2_2']  = _conv2d_relu(graph['conv2_1'], 7, 'conv2_2')\n",
    "    graph['avgpool2'] = _avgpool(graph['conv2_2'])\n",
    "    graph['conv3_1']  = _conv2d_relu(graph['avgpool2'], 10, 'conv3_1')\n",
    "    graph['conv3_2']  = _conv2d_relu(graph['conv3_1'], 12, 'conv3_2')\n",
    "    graph['conv3_3']  = _conv2d_relu(graph['conv3_2'], 14, 'conv3_3')\n",
    "    graph['conv3_4']  = _conv2d_relu(graph['conv3_3'], 16, 'conv3_4')\n",
    "    graph['avgpool3'] = _avgpool(graph['conv3_4'])\n",
    "    graph['conv4_1']  = _conv2d_relu(graph['avgpool3'], 19, 'conv4_1')\n",
    "    graph['conv4_2']  = _conv2d_relu(graph['conv4_1'], 21, 'conv4_2')\n",
    "    graph['conv4_3']  = _conv2d_relu(graph['conv4_2'], 23, 'conv4_3')\n",
    "    graph['conv4_4']  = _conv2d_relu(graph['conv4_3'], 25, 'conv4_4')\n",
    "    graph['avgpool4'] = _avgpool(graph['conv4_4'])\n",
    "    graph['conv5_1']  = _conv2d_relu(graph['avgpool4'], 28, 'conv5_1')\n",
    "    graph['conv5_2']  = _conv2d_relu(graph['conv5_1'], 30, 'conv5_2')\n",
    "    graph['conv5_3']  = _conv2d_relu(graph['conv5_2'], 32, 'conv5_3')\n",
    "    graph['conv5_4']  = _conv2d_relu(graph['conv5_3'], 34, 'conv5_4')\n",
    "    graph['avgpool5'] = _avgpool(graph['conv5_4'])\n",
    "    \n",
    "    return graph\n",
    "    "
   ]
  },
  {
   "cell_type": "code",
   "execution_count": 211,
   "metadata": {
    "collapsed": false
   },
   "outputs": [],
   "source": [
    "def get_noise_image(content_image):\n",
    "    \n",
    "    noise_image = np.random.uniform(0,255,(1,IMAGE_HEIGHT,IMAGE_WIDTH,CHANNELS)).astype('float32')\n",
    "    \n",
    "    out_image =  noise_image*NOISE_RATIO + content_image*(1-NOISE_RATIO)\n",
    "   \n",
    "    return noise_image\n",
    "\n",
    "\n",
    "    "
   ]
  },
  {
   "cell_type": "code",
   "execution_count": 212,
   "metadata": {
    "collapsed": false
   },
   "outputs": [],
   "source": [
    "def resize_image(image,name):\n",
    "#     return tf.image.resize_image_with_crop_or_pad(image,IMAGE_HEIGHT,IMAGE_WIDTH)\n",
    "    try:\n",
    "        im = Image.open(image)\n",
    "        resized = im.resize((IMAGE_WIDTH,IMAGE_HEIGHT),Image.ANTIALIAS)\n",
    "        resized.save('images/resized'+'_'+str(name)+'.jpg')\n",
    "    except IOError:\n",
    "        print (\"cannot create thumbnail for '%s'\" % resized)\n",
    "\n",
    "    "
   ]
  },
  {
   "cell_type": "code",
   "execution_count": 213,
   "metadata": {
    "collapsed": false
   },
   "outputs": [],
   "source": [
    "def reshape_image(image):\n",
    "    reshaped_image = np.reshape(image,((1,)+image.shape))\n",
    "    \n",
    "    reshaped_norm_image = reshaped_image - VGG_MEANS\n",
    "    \n",
    "    return reshaped_norm_image"
   ]
  },
  {
   "cell_type": "markdown",
   "metadata": {},
   "source": [
    "### Test method"
   ]
  },
  {
   "cell_type": "code",
   "execution_count": 214,
   "metadata": {
    "collapsed": false,
    "scrolled": false
   },
   "outputs": [],
   "source": [
    "resize_image('images/tvar_2.jpg','tvar_2')\n",
    "\n",
    "resized_img = scipy.misc.imread('images/resized_tvar_2.jpg')\n",
    "\n",
    "\n",
    "#plt.imshow(resized_img)\n",
    "\n",
    "reshaped_image = reshape_image(resized_img)\n",
    "\n",
    "#print (reshaped_image.shape)\n",
    "\n",
    "#print (reshaped_image[0])\n",
    "\n",
    "noise_image = get_noise_image(reshaped_image)\n",
    "\n",
    "#print (noise_image[0])\n"
   ]
  },
  {
   "cell_type": "code",
   "execution_count": 215,
   "metadata": {
    "collapsed": true
   },
   "outputs": [],
   "source": [
    "def save_image(path,image):\n",
    "    image = image+VGG_MEANS\n",
    "    image = np.clip(image[0], 0, 255).astype('uint8')\n",
    "    scipy.misc.imsave(path, image)"
   ]
  },
  {
   "cell_type": "code",
   "execution_count": 220,
   "metadata": {
    "collapsed": false
   },
   "outputs": [
    {
     "name": "stdout",
     "output_type": "stream",
     "text": [
      "(64,)\n",
      "(64,)\n",
      "(128,)\n",
      "(128,)\n",
      "(256,)\n",
      "(256,)\n",
      "(256,)\n",
      "(256,)\n",
      "(512,)\n",
      "(512,)\n",
      "(512,)\n",
      "(512,)\n",
      "(512,)\n",
      "(512,)\n",
      "(512,)\n",
      "(512,)\n"
     ]
    }
   ],
   "source": [
    "vgg = load_pretrained_VGG()"
   ]
  },
  {
   "cell_type": "code",
   "execution_count": null,
   "metadata": {
    "collapsed": true
   },
   "outputs": [],
   "source": []
  }
 ],
 "metadata": {
  "kernelspec": {
   "display_name": "Python 3",
   "language": "python",
   "name": "python3"
  },
  "language_info": {
   "codemirror_mode": {
    "name": "ipython",
    "version": 3
   },
   "file_extension": ".py",
   "mimetype": "text/x-python",
   "name": "python",
   "nbconvert_exporter": "python",
   "pygments_lexer": "ipython3",
   "version": "3.6.0"
  }
 },
 "nbformat": 4,
 "nbformat_minor": 2
}
